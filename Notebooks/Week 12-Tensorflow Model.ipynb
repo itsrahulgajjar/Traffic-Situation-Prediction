{
 "cells": [
  {
   "cell_type": "code",
   "execution_count": 1,
   "id": "6654901b",
   "metadata": {},
   "outputs": [],
   "source": [
    "import pandas as pd\n",
    "import numpy as np\n",
    "import tensorflow as tf\n",
    "from sklearn.model_selection import train_test_split\n",
    "from sklearn.preprocessing import StandardScaler\n",
    "from sklearn.preprocessing import LabelEncoder\n",
    "from tensorflow.keras.models import Sequential\n",
    "from tensorflow.keras.layers import Dense"
   ]
  },
  {
   "cell_type": "code",
   "execution_count": 17,
   "id": "7c970fb1",
   "metadata": {},
   "outputs": [],
   "source": [
    "data = pd.read_csv('Traffic_updated.csv')"
   ]
  },
  {
   "cell_type": "code",
   "execution_count": 18,
   "id": "2952c79c",
   "metadata": {},
   "outputs": [],
   "source": [
    "labels = data['Traffic Situation']"
   ]
  },
  {
   "cell_type": "code",
   "execution_count": 19,
   "id": "ce8e60f5",
   "metadata": {},
   "outputs": [],
   "source": [
    "label_encoder = LabelEncoder()\n",
    "encoded_labels = label_encoder.fit_transform(labels)"
   ]
  },
  {
   "cell_type": "code",
   "execution_count": 20,
   "id": "060c13e6",
   "metadata": {},
   "outputs": [],
   "source": [
    "features = data.drop('Traffic Situation', axis=1)"
   ]
  },
  {
   "cell_type": "code",
   "execution_count": 21,
   "id": "7dfe30e0",
   "metadata": {},
   "outputs": [],
   "source": [
    "X_train, X_test, y_train, y_test = train_test_split(features, encoded_labels, test_size=0.2, random_state=42)"
   ]
  },
  {
   "cell_type": "code",
   "execution_count": 22,
   "id": "f65bc504",
   "metadata": {},
   "outputs": [],
   "source": [
    "scaler = StandardScaler()\n",
    "X_train = scaler.fit_transform(X_train)\n",
    "X_test = scaler.transform(X_test)"
   ]
  },
  {
   "cell_type": "code",
   "execution_count": 23,
   "id": "a6333ad4",
   "metadata": {},
   "outputs": [],
   "source": [
    "model = Sequential()\n",
    "model.add(Dense(128, input_dim=X_train.shape[1], activation='relu'))\n",
    "model.add(Dense(64, activation='relu'))\n",
    "model.add(Dense(32, activation='relu'))\n",
    "model.add(Dense(4, activation='softmax')) "
   ]
  },
  {
   "cell_type": "code",
   "execution_count": 24,
   "id": "2dc3bf88",
   "metadata": {},
   "outputs": [],
   "source": [
    "model.compile(optimizer='adam', loss='sparse_categorical_crossentropy', metrics=['accuracy'])"
   ]
  },
  {
   "cell_type": "code",
   "execution_count": 25,
   "id": "9740fe65",
   "metadata": {},
   "outputs": [
    {
     "name": "stdout",
     "output_type": "stream",
     "text": [
      "Epoch 1/10\n",
      "60/60 [==============================] - 1s 4ms/step - loss: 0.8427 - accuracy: 0.7122 - val_loss: 0.5546 - val_accuracy: 0.7857\n",
      "Epoch 2/10\n",
      "60/60 [==============================] - 0s 2ms/step - loss: 0.4340 - accuracy: 0.8330 - val_loss: 0.3144 - val_accuracy: 0.8950\n",
      "Epoch 3/10\n",
      "60/60 [==============================] - 0s 2ms/step - loss: 0.2929 - accuracy: 0.8939 - val_loss: 0.2498 - val_accuracy: 0.9076\n",
      "Epoch 4/10\n",
      "60/60 [==============================] - 0s 2ms/step - loss: 0.2370 - accuracy: 0.9055 - val_loss: 0.2173 - val_accuracy: 0.9223\n",
      "Epoch 5/10\n",
      "60/60 [==============================] - 0s 2ms/step - loss: 0.2082 - accuracy: 0.9238 - val_loss: 0.2433 - val_accuracy: 0.9076\n",
      "Epoch 6/10\n",
      "60/60 [==============================] - 0s 2ms/step - loss: 0.1984 - accuracy: 0.9270 - val_loss: 0.1744 - val_accuracy: 0.9454\n",
      "Epoch 7/10\n",
      "60/60 [==============================] - 0s 2ms/step - loss: 0.1781 - accuracy: 0.9375 - val_loss: 0.1698 - val_accuracy: 0.9349\n",
      "Epoch 8/10\n",
      "60/60 [==============================] - 0s 2ms/step - loss: 0.1579 - accuracy: 0.9470 - val_loss: 0.1683 - val_accuracy: 0.9349\n",
      "Epoch 9/10\n",
      "60/60 [==============================] - 0s 2ms/step - loss: 0.1531 - accuracy: 0.9422 - val_loss: 0.1577 - val_accuracy: 0.9517\n",
      "Epoch 10/10\n",
      "60/60 [==============================] - 0s 2ms/step - loss: 0.1374 - accuracy: 0.9548 - val_loss: 0.1530 - val_accuracy: 0.9496\n"
     ]
    },
    {
     "data": {
      "text/plain": [
       "<keras.src.callbacks.History at 0x1248b4f3ad0>"
      ]
     },
     "execution_count": 25,
     "metadata": {},
     "output_type": "execute_result"
    }
   ],
   "source": [
    "model.fit(X_train, y_train, epochs=10, batch_size=32, validation_split=0.2)"
   ]
  },
  {
   "cell_type": "code",
   "execution_count": 26,
   "id": "e6008f57",
   "metadata": {},
   "outputs": [
    {
     "name": "stdout",
     "output_type": "stream",
     "text": [
      "19/19 [==============================] - 0s 2ms/step - loss: 0.1940 - accuracy: 0.9295\n",
      "Test Loss: 0.19402585923671722, Test Accuracy: 0.9295302033424377\n"
     ]
    }
   ],
   "source": [
    "loss, accuracy = model.evaluate(X_test, y_test)\n",
    "print(f'Test Loss: {loss}, Test Accuracy: {accuracy}')"
   ]
  },
  {
   "cell_type": "code",
   "execution_count": 27,
   "id": "04839d9c",
   "metadata": {},
   "outputs": [
    {
     "name": "stderr",
     "output_type": "stream",
     "text": [
      "C:\\Users\\admin\\anaconda3\\Lib\\site-packages\\keras\\src\\engine\\training.py:3000: UserWarning: You are saving your model as an HDF5 file via `model.save()`. This file format is considered legacy. We recommend using instead the native Keras format, e.g. `model.save('my_model.keras')`.\n",
      "  saving_api.save_model(\n"
     ]
    }
   ],
   "source": [
    "model.save('week-12-tensorflow.h5')"
   ]
  },
  {
   "cell_type": "code",
   "execution_count": null,
   "id": "9a74c03e",
   "metadata": {},
   "outputs": [],
   "source": []
  }
 ],
 "metadata": {
  "kernelspec": {
   "display_name": "Python 3 (ipykernel)",
   "language": "python",
   "name": "python3"
  },
  "language_info": {
   "codemirror_mode": {
    "name": "ipython",
    "version": 3
   },
   "file_extension": ".py",
   "mimetype": "text/x-python",
   "name": "python",
   "nbconvert_exporter": "python",
   "pygments_lexer": "ipython3",
   "version": "3.11.4"
  }
 },
 "nbformat": 4,
 "nbformat_minor": 5
}
